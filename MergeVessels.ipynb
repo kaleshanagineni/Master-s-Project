{
 "cells": [
  {
   "cell_type": "code",
   "execution_count": 9,
   "metadata": {
    "collapsed": false
   },
   "outputs": [
    {
     "name": "stdout",
     "output_type": "stream",
     "text": [
      "data aggregation is done\n"
     ]
    }
   ],
   "source": [
    "def data_aggregate():\n",
    "    import pandas as pd\n",
    "    import datetime\n",
    "    \n",
    "    appended_data = []    \n",
    "    date = datetime.date(2014,12,31)\n",
    "    for i in range(365):\n",
    "        \n",
    "        date += datetime.timedelta(days=1) \n",
    "        #print(date)\n",
    "        try:\n",
    "            \n",
    "            data = pd.read_json('MV2015/'+str(date)+'.json')\n",
    "            data['start']=data['start'].str.replace(r'(am|pm)', r' \\1')\n",
    "            data['date_time']=data['start'].apply(lambda x: datetime.datetime.strptime(str(date)+' '+x, '%Y-%m-%d %I:%M %p'))\n",
    "        except Exception:\n",
    "            pass\n",
    "        appended_data.append(data)\n",
    "    MV10 = pd.concat(appended_data, axis=0)\n",
    "    MV10.to_csv('Vessels_MV15.csv')\n",
    "    #cols = MV06.columns.tolist()\n",
    "    #cols = cols[-1:] + cols[:-1]\n",
    "\n",
    "    #print(MV10[['date_time','sloc']])\n",
    "\n",
    "def run():\n",
    "    data_aggregate()\n",
    "    print(\"data aggregation is done\")\n",
    "    \n",
    "        #merge(str(date))\n",
    "        #time.sleep(1)\n",
    "        #print(date)\n",
    "if __name__ == '__main__':\n",
    "    \n",
    "    run()"
   ]
  },
  {
   "cell_type": "code",
   "execution_count": null,
   "metadata": {
    "collapsed": true
   },
   "outputs": [],
   "source": []
  }
 ],
 "metadata": {
  "kernelspec": {
   "display_name": "Python 3",
   "language": "python",
   "name": "python3"
  },
  "language_info": {
   "codemirror_mode": {
    "name": "ipython",
    "version": 3
   },
   "file_extension": ".py",
   "mimetype": "text/x-python",
   "name": "python",
   "nbconvert_exporter": "python",
   "pygments_lexer": "ipython3",
   "version": "3.4.3"
  }
 },
 "nbformat": 4,
 "nbformat_minor": 0
}
