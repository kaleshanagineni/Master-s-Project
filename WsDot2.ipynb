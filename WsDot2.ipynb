{
 "cells": [
  {
   "cell_type": "code",
   "execution_count": 19,
   "metadata": {
    "collapsed": false
   },
   "outputs": [
    {
     "name": "stdout",
     "output_type": "stream",
     "text": [
      "0         12/29/2015 13:06\n",
      "1         12/29/2015 13:06\n",
      "2         12/29/2015 13:06\n",
      "3         12/29/2015 13:06\n",
      "4         12/29/2015 13:06\n",
      "5         12/29/2015 13:06\n",
      "6         12/29/2015 13:06\n",
      "7         12/29/2015 13:06\n",
      "8         12/29/2015 13:06\n",
      "9         12/29/2015 13:06\n",
      "10        12/29/2015 13:06\n",
      "11        12/29/2015 13:06\n",
      "12        12/29/2015 13:06\n",
      "13        12/29/2015 13:06\n",
      "14        12/29/2015 13:06\n",
      "15        12/29/2015 13:06\n",
      "16        12/29/2015 13:06\n",
      "17        12/29/2015 13:06\n",
      "18        12/29/2015 13:06\n",
      "19        12/29/2015 13:06\n",
      "20        12/28/2015 00:39\n",
      "21        12/29/2015 13:06\n",
      "22        12/29/2015 13:06\n",
      "23        12/29/2015 13:06\n",
      "24        12/29/2015 13:07\n",
      "25        12/29/2015 13:07\n",
      "26        12/29/2015 13:07\n",
      "27        12/29/2015 13:07\n",
      "28        12/29/2015 13:07\n",
      "29        12/29/2015 13:07\n",
      "                ...       \n",
      "237522      1/5/2016 11:35\n",
      "237523      1/5/2016 11:35\n",
      "237524      1/5/2016 11:35\n",
      "237525      1/3/2016 03:33\n",
      "237526      1/5/2016 11:35\n",
      "237527      1/5/2016 11:35\n",
      "237528      1/5/2016 11:36\n",
      "237529      1/5/2016 11:36\n",
      "237530      1/5/2016 11:36\n",
      "237531      1/5/2016 11:36\n",
      "237532      1/5/2016 11:36\n",
      "237533      1/5/2016 11:36\n",
      "237534      1/5/2016 11:36\n",
      "237535      1/5/2016 11:36\n",
      "237536      1/5/2016 11:36\n",
      "237537      1/5/2016 11:36\n",
      "237538      1/5/2016 11:36\n",
      "237539      1/5/2016 11:36\n",
      "237540      1/5/2016 11:36\n",
      "237541      1/5/2016 11:36\n",
      "237542      1/5/2016 11:36\n",
      "237543      1/5/2016 11:36\n",
      "237544      1/5/2016 11:36\n",
      "237545      1/5/2016 11:36\n",
      "237546      1/5/2016 11:36\n",
      "237547      1/5/2016 11:36\n",
      "237548      1/5/2016 11:36\n",
      "237549      1/3/2016 03:33\n",
      "237550      1/5/2016 11:36\n",
      "237551      1/5/2016 11:36\n",
      "Name: datetime, dtype: object\n"
     ]
    }
   ],
   "source": [
    "import pandas as pd\n",
    "def run():\n",
    "    import datetime \n",
    "    df3=pd.read_csv('filtered_data.csv')\n",
    "    #df3=df3[(df3.vesselID==20)]\n",
    "    df3['date'] = df3['datetime'].apply(lambda x: x.split(' ')[0])\n",
    "    df3['Ye']=df3['date'].str.contains('12/', na=False)\n",
    "    df3['Ye']=df3['Ye'].apply(lambda x: 'True' if x else 'False')\n",
    "    #print(df3['Ye'])\n",
    "    df3['date'] = df3.apply(my_replace, axis=1)\n",
    "\n",
    "    #print(df3['date'])\n",
    "    df3['leftdockdt'] = df3['date'].map(str)+' '+ df3['leftdock']+df3['leftdockAMPM']\n",
    "    df3['datetime']=df3['date'].map(str)+' '+ df3['datetime'].apply(lambda x: x.split(' ')[3])\n",
    "    df3['temp']=df3['leftdockdt']\n",
    "    #pd.to_datetime(df3['leftdockdt'])\n",
    "    #pd.to_datetime(df3['datetime'])\n",
    "    print(df3['datetime'])\n",
    "    #df3['leftdockdt']=df3['leftdockdt'].apply(lambda x: datetime.datetime.strptime(str(x), '%m/%d/%Y %I:%M'))\n",
    "    df3.to_csv('filtered_dataID.csv')\n",
    "def my_replace(row):\n",
    "    if  row['Ye']=='True':\n",
    "        \n",
    "        return row['date']+'/2015'\n",
    "       \n",
    "    else:\n",
    "        return row['date']+'/2016'\n",
    "        \n",
    "\n",
    "if __name__ == '__main__':\n",
    "    \n",
    "    run()"
   ]
  },
  {
   "cell_type": "code",
   "execution_count": 26,
   "metadata": {
    "collapsed": false
   },
   "outputs": [
    {
     "name": "stdout",
     "output_type": "stream",
     "text": [
      "                           Unnamed: 0  Unnamed: 0.1           aterm  \\\n",
      "leftdockdt       vesselID                                             \n",
      "1/1/2016 10:01AM 17             98292            12       Bremerton   \n",
      "                 18             97422             6        Mukilteo   \n",
      "                 19             97421             5         Clinton   \n",
      "1/1/2016 10:02PM 19            114653             5         Clinton   \n",
      "                 65            114664            16  Point Defiance   \n",
      "\n",
      "                          aterm_abbrev  aterm_id        datetime  \\\n",
      "leftdockdt       vesselID                                          \n",
      "1/1/2016 10:01AM 17                BRE         4  1/1/2016 10:51   \n",
      "                 18                MUK        14  1/1/2016 10:15   \n",
      "                 19                CLI         5  1/1/2016 10:15   \n",
      "1/1/2016 10:02PM 19                CLI         5  1/1/2016 22:13   \n",
      "                 65                PTD        16  1/1/2016 22:13   \n",
      "\n",
      "                          departDelayed    eta etaAMPM  \\\n",
      "leftdockdt       vesselID                                \n",
      "1/1/2016 10:01AM 17                   N  10:53      AM   \n",
      "                 18                   N  10:16      AM   \n",
      "                 19                   N  10:17      AM   \n",
      "1/1/2016 10:02PM 19                   N  10:13      PM   \n",
      "                 65                   N  10:14      PM   \n",
      "\n",
      "                                                                    etaBasis  \\\n",
      "leftdockdt       vesselID                                                      \n",
      "1/1/2016 10:01AM 17        Vessel Kaleetan departed Colman going to Breme...   \n",
      "                 18        Vessel Kitsap departed Clinton going to Mukilt...   \n",
      "                 19        Vessel Kittitas departed Mukilteo going to Cli...   \n",
      "1/1/2016 10:02PM 19        Vessel Kittitas departed Mukilteo going to Cli...   \n",
      "                 65        Vessel Chetzemoka departed Tahlequah going to ...   \n",
      "\n",
      "                            ...     speed  system   w xOffSet  yOffSet  \\\n",
      "leftdockdt       vesselID   ...                                          \n",
      "1/1/2016 10:01AM 17         ...       3.3     WSF  15       0        0   \n",
      "                 18         ...       2.2     WSF  15       0        0   \n",
      "                 19         ...       4.5     WSF  16       0        0   \n",
      "1/1/2016 10:02PM 19         ...       0.9     WSF  15       0        0   \n",
      "                 65         ...       1.1     WSF  10       0        0   \n",
      "\n",
      "                               date     Ye                temp  \\\n",
      "leftdockdt       vesselID                                        \n",
      "1/1/2016 10:01AM 17        1/1/2016  False 2016-01-01 10:01:00   \n",
      "                 18        1/1/2016  False 2016-01-01 10:01:00   \n",
      "                 19        1/1/2016  False 2016-01-01 10:01:00   \n",
      "1/1/2016 10:02PM 19        1/1/2016  False 2016-01-01 22:02:00   \n",
      "                 65        1/1/2016  False 2016-01-01 22:02:00   \n",
      "\n",
      "                                 arrival_time      dur  \n",
      "leftdockdt       vesselID                               \n",
      "1/1/2016 10:01AM 17       2016-01-01 10:52:00 00:51:00  \n",
      "                 18       2016-01-01 10:16:00 00:15:00  \n",
      "                 19       2016-01-01 10:16:00 00:15:00  \n",
      "1/1/2016 10:02PM 19       2016-01-01 22:14:00 00:12:00  \n",
      "                 65       2016-01-01 22:14:00 00:12:00  \n",
      "\n",
      "[5 rows x 43 columns]\n"
     ]
    }
   ],
   "source": [
    "from datetime import timedelta\n",
    "import pandas as pd\n",
    "import datetime\n",
    "dff5=pd.DataFrame()\n",
    "dff=pd.read_csv('filtered_dataID.csv')\n",
    "#dff=dff[(dff.vesselID==20)]\n",
    "#print(dff['datetime'])\n",
    "#dff2=dff[dff['datetime'] == dff.groupby(['leftdockdt','vesselID'])['datetime'].transform(max)]\n",
    "dff2=dff.groupby(['leftdockdt','vesselID'])#.agg({'datetime':'max'})\n",
    "#dff2= dff2.reset_index()\n",
    "\n",
    "#dff2 = dff2.rename(columns={'datetime':'datetime2'})\n",
    "\n",
    "#dff2 = pd.merge(dff, dff2, how='left', on=['leftdockdt', 'vesselID'])\n",
    "\n",
    "#dff2 = dff2[dff2['datetime'] == dff2['datetime2']]\n",
    "#print(dff2)\n",
    "dff2=dff2.agg(lambda x: x.iloc[-1])\n",
    "dff2['arrival_time'] = dff2['datetime']\n",
    "#print(dff2['arrival_time'])\n",
    "dff2['arrival_time']=dff2['arrival_time'].apply(lambda x: datetime.datetime.strptime(x, '%m/%d/%Y %H:%M'))\n",
    "\n",
    "dff2['arrival_time']=dff2['arrival_time']+timedelta(minutes=1)\n",
    "dff2['temp']=dff2['temp'].apply(lambda x: datetime.datetime.strptime(x, '%m/%d/%Y %I:%M%p'))\n",
    "dff2['temp']=dff2['temp'].apply(lambda x: datetime.datetime.strftime(x, '%m/%d/%Y %H:%M'))\n",
    "dff2['arrival_time']=dff2['arrival_time'].apply(lambda x: datetime.datetime.strftime(x, '%m/%d/%Y %H:%M'))\n",
    "dff2['arrival_time']=pd.to_datetime(dff2['arrival_time'])\n",
    "dff2['temp']=pd.to_datetime(dff2['temp'])\n",
    "#print(dff2[['temp','arrival_time']])\n",
    "\n",
    "\n",
    "dff2['dur']=(dff2['arrival_time']-dff2['temp'])\n",
    "dff2.to_csv('filtered_dur.csv')\n",
    "print(dff2.head())"
   ]
  },
  {
   "cell_type": "code",
   "execution_count": 229,
   "metadata": {
    "collapsed": false
   },
   "outputs": [
    {
     "data": {
      "text/plain": [
       "array(['SEA-BR', 'MUK-CL', 'PD-TAL', 'ANA-SJ', 'F-V-S', 'PT-COU', 'SEA-BI',\n",
       "       'ED-KING', nan], dtype=object)"
      ]
     },
     "execution_count": 229,
     "metadata": {},
     "output_type": "execute_result"
    }
   ],
   "source": [
    "dff6=pd.read_csv('filtered_dur.csv')\n",
    "dff6['route'].unique()"
   ]
  },
  {
   "cell_type": "code",
   "execution_count": 236,
   "metadata": {
    "collapsed": false,
    "scrolled": true
   },
   "outputs": [
    {
     "data": {
      "image/png": "[encoded data removed]",
      "text/plain": [
       "<matplotlib.figure.Figure at 0x4abacc0>"
      ]
     },
     "metadata": {},
     "output_type": "display_data"
    }
   ],
   "source": [
    "%matplotlib inline\n",
    "def draw(ID,d,o):\n",
    "    import matplotlib.pyplot as plt\n",
    "    import numpy as np\n",
    "    df8=pd.read_csv('filtered_dur.csv')\n",
    "    dft=df8[(df8.vesselID==ID ) ]\n",
    "    dft=dft[(dft.aterm==d)]\n",
    "    dft=dft[(dft.lastdock==o)]\n",
    "    \n",
    "    #print(dft['dur'])\n",
    "    dft['dur_min']= dft['dur'].apply(duration2sec)\n",
    "    dft=dft[(dft.dur_min>=8)]\n",
    "    time=dft['dur_min'].mean()\n",
    "    dft2=df8[(df8.vesselID==ID ) ]\n",
    "    dft2=dft2[(dft2.aterm==o)]\n",
    "    dft2=dft2[(dft2.lastdock==d)]\n",
    "    dft2['dur_min']= dft2['dur'].apply(duration2sec)\n",
    "    dft2=dft2[(dft2.dur_min>=8)]\n",
    "    time2=dft2['dur_min'].mean()\n",
    "    values=[time,time2]\n",
    "    \n",
    "    lables=[o+'-'+d,d+'-'+o]\n",
    "    \n",
    "        #print('comparision can be made')\n",
    "                                  \n",
    "    ind = np.arange(len(lables))\n",
    "    width = 0.4\n",
    "\n",
    "    fig, ax = plt.subplots()\n",
    "    ax.barh(ind, values, width, color='red', label='Duration')\n",
    "    ax.set_ylabel('Route')\n",
    "    ax.set_xlabel('Minutes')\n",
    "    ax.set_title('comparing travel duration for a given vessel ')\n",
    "\n",
    "    ax.set(yticks=ind+width/2, yticklabels=lables, ylim=[2*width - 1, len(lables)])\n",
    "    ax.legend()\n",
    "    #plt.update({'figure.autolayout': True})\n",
    "    plt.savefig('routeave2.png',bbox_inches='tight')\n",
    "    plt.show()\n",
    "        #pl.tight_layout()\n",
    "    \n",
    "    #print(time2)\n",
    "    #(diff.days * 24 * 60) + (diff.seconds/60)\n",
    "    #time = pd.DatetimeIndex(dft['dur'])\n",
    "    #print(dft2[['dur_min','datetime','temp']])\n",
    "    #print(dft[['dur_min','datetime','temp']])\n",
    "    #print(time)\n",
    "def duration2sec(string):\n",
    "    if \"days\" in string:\n",
    "        days = string.split()[0]\n",
    "        hours = string.split()[2].split(':')\n",
    "        return (int(days) * 1440 + int(hours[0]) * 60 + int(hours[1]))\n",
    "    else:\n",
    "        hours = string.split(':')\n",
    "        return (int(hours[0]) * 60 + int(hours[1]))\n",
    "def run():\n",
    "    df7=pd.read_csv('filtered_dur.csv')\n",
    "    ID=17\n",
    "    dest='Bremerton'\n",
    "    orig='Seattle'\n",
    "    \n",
    "    #draw()\n",
    "    #df7=df7[(df7.vesselID==17)]\n",
    "    #print(df7[['dur','aterm','lastdock']])\n",
    "    draw(ID,dest,orig)\n",
    "if __name__ == '__main__':\n",
    "    \n",
    "    run()"
   ]
  },
  {
   "cell_type": "code",
   "execution_count": 231,
   "metadata": {
    "collapsed": false
   },
   "outputs": [
    {
     "name": "stdout",
     "output_type": "stream",
     "text": [
      "     route    dur_min\n",
      "0   ANA-SJ  33.699571\n",
      "1  ED-KING  22.234043\n",
      "2    F-V-S  14.536842\n",
      "3   MUK-CL  14.139113\n",
      "4   PD-TAL  12.477273\n",
      "5   PT-COU  28.100000\n",
      "6   SEA-BI  31.091483\n",
      "7   SEA-BR  52.165094\n"
     ]
    },
    {
     "data": {
      "image/png": "[encoded data removed]",
      "text/plain": [
       "<matplotlib.figure.Figure at 0x10758470>"
      ]
     },
     "metadata": {},
     "output_type": "display_data"
    }
   ],
   "source": [
    "import matplotlib.pyplot as plt\n",
    "import numpy as np\n",
    "import seaborn\n",
    "def run():\n",
    "    dff9=pd.read_csv('filtered_dur.csv')\n",
    "    dff9['dur_min']=dff9['dur'].apply(duration2sec)\n",
    "    \n",
    "    #print(dff9[['dur','dur_min']])\n",
    "#print(dff9['dur'])\n",
    "    dff9=dff9[dff9.dur_min>=8]\n",
    "    dff9.to_csv('filtered_durmin.csv')\n",
    "    count=dff9.groupby(['route'])['dur_min'].mean()\n",
    "    count=count.reset_index()\n",
    "    #count.plot()\n",
    "    print(count)\n",
    "    \n",
    "    ind = np.arange(len(count)) \n",
    "    width = 0.5\n",
    "    fig, r = plt.subplots()\n",
    "    rect = r.bar(ind, count['dur_min'], width, color='y', label='duration')\n",
    "#rect2=r.bar(ind+width, On_Time, width, color='b', label='On Time')\n",
    "    r.set_ylabel('Minutes')\n",
    "    r.set_xlabel('Route')\n",
    "    r.set_title('average duration for each route')\n",
    "    r.set_xticks(ind+width/2)\n",
    "    r.set_xticklabels(count['route'] ) \n",
    "    plt.legend(loc='upper left',prop={'size':8})   \n",
    "    plt.savefig('routeave1.png')\n",
    "    #plt.tight_layout()\n",
    "    plt.show()\n",
    "   \n",
    "    #dff10=dff9.groupby(['route','vesselID'])['dur_min'].mean()\n",
    "    #print(dff10)\n",
    "    #df2.columns = ['data', 'max', 'min']\n",
    "    \n",
    "def duration2sec(string):\n",
    "    if \"days\" in string:\n",
    "        days = string.split()[0]\n",
    "        hours = string.split()[2].split(':')\n",
    "        return (int(days) * 1440 + int(hours[0]) * 60 + int(hours[1]))\n",
    "    else:\n",
    "        hours = string.split(':')\n",
    "        return (int(hours[0]) * 60 + int(hours[1]))\n",
    "if __name__ == '__main__':\n",
    "    \n",
    "    run()    "
   ]
  },
  {
   "cell_type": "code",
   "execution_count": 228,
   "metadata": {
    "collapsed": false
   },
   "outputs": [
    {
     "name": "stdout",
     "output_type": "stream",
     "text": [
      "route    vesselID\n",
      "ANA-SJ   13          39.357895\n",
      "         20          24.747664\n",
      "         38          33.721429\n",
      "         69          37.064516\n",
      "ED-KING  30          22.100629\n",
      "         36          21.821429\n",
      "         68          23.396552\n",
      "F-V-S    1           13.623239\n",
      "         28          14.312950\n",
      "         33          16.161616\n",
      "MUK-CL   18          13.953191\n",
      "         19          14.306513\n",
      "PD-TAL   65          12.477273\n",
      "PT-COU   52          27.481481\n",
      "         66          28.247788\n",
      "SEA-BI   25          30.942675\n",
      "         32          31.000000\n",
      "         37          31.513514\n",
      "SEA-BR   2           55.800000\n",
      "         13          57.000000\n",
      "         15          54.054348\n",
      "         17          50.438596\n",
      "Name: dur_min, dtype: float64\n"
     ]
    },
    {
     "data": {
      "image/png": "[encoded data removed]",
      "text/plain": [
       "<matplotlib.figure.Figure at 0x10cf4630>"
      ]
     },
     "metadata": {},
     "output_type": "display_data"
    }
   ],
   "source": [
    "import seaborn\n",
    "\n",
    "dff12=pd.read_csv('filtered_durmin.csv')\n",
    "\n",
    "meanVes=dff12.groupby(['route','vesselID'])['dur_min'].mean()\n",
    "\n",
    "print(meanVes)\n",
    "#print(meanVes.get_group('ANA-SJ'))\n",
    "#meanVes.plot()\n",
    "meanVes=meanVes.reset_index()\n",
    "\n",
    "meanVes['Vessels'] = meanVes['vesselID']\n",
    "meanVes.loc[(meanVes['vesselID'] == 13) & (meanVes['route']=='SEA-BR'), 'Vessels'] = '13^2'\n",
    "\n",
    "\n",
    "\n",
    "fg = seaborn.factorplot(x='Vessels', y='dur_min', hue='route', size=6,aspect=2 ,kind='bar', data=meanVes)\n",
    "fg.savefig(\"routeave.png\")\n",
    "#meanVes.get_group('ANA-SJ')\n",
    "\n",
    "#print(meanVes)"
   ]
  },
  {
   "cell_type": "code",
   "execution_count": null,
   "metadata": {
    "collapsed": true
   },
   "outputs": [],
   "source": []
  },
  {
   "cell_type": "code",
   "execution_count": null,
   "metadata": {
    "collapsed": true
   },
   "outputs": [],
   "source": []
  }
 ],
 "metadata": {
  "kernelspec": {
   "display_name": "Python 3",
   "language": "python",
   "name": "python3"
  },
  "language_info": {
   "codemirror_mode": {
    "name": "ipython",
    "version": 3
   },
   "file_extension": ".py",
   "mimetype": "text/x-python",
   "name": "python",
   "nbconvert_exporter": "python",
   "pygments_lexer": "ipython3",
   "version": "3.4.3"
  }
 },
 "nbformat": 4,
 "nbformat_minor": 0
}
